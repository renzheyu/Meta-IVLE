{
 "cells": [
  {
   "cell_type": "code",
   "execution_count": 17,
   "metadata": {},
   "outputs": [],
   "source": [
    "import numpy as np\n",
    "import pandas as pd\n",
    "import os, re, pickle"
   ]
  },
  {
   "cell_type": "code",
   "execution_count": 8,
   "metadata": {},
   "outputs": [],
   "source": [
    "file_dir = \"Z:\\IVLE Identifiable Data\\Deidentify\""
   ]
  },
  {
   "cell_type": "code",
   "execution_count": 48,
   "metadata": {},
   "outputs": [],
   "source": [
    "stud_grades = pd.read_csv(os.path.join(file_dir, 'IVLE-followup-enrollmentsWinter2019 DEID.csv'))\n",
    "with open('./student_data.pickle', 'rb') as f:\n",
    "    stud_qts = pickle.load(f)"
   ]
  },
  {
   "cell_type": "code",
   "execution_count": 49,
   "metadata": {},
   "outputs": [],
   "source": [
    "student_gpa = {}"
   ]
  },
  {
   "cell_type": "code",
   "execution_count": 50,
   "metadata": {},
   "outputs": [],
   "source": [
    "def get_term(x):\n",
    "    year = re.findall('(?<=-)\\d+', x['AcadYr'])[0]\n",
    "    if x['AcadTerm'] == 'Fall':\n",
    "        year = str(int(year) - 1)\n",
    "    return year+x['AcadTerm']"
   ]
  },
  {
   "cell_type": "code",
   "execution_count": 51,
   "metadata": {},
   "outputs": [],
   "source": [
    "lt2gpa = {'A+':4.0, 'A':4.0, 'A-':3.7, 'B+':3.3, 'B':3.0, 'B-':2.7, 'C+':2.3, 'C':2.0, 'C-':1.7, 'D+':1.3, 'D':1.0, 'D-':0.7, 'F':0}\n",
    "\n",
    "f_grades = stud_grades['Grade'].isin(lt2gpa.keys())\n",
    "f_qrt = (stud_grades['AcadTerm'] != 'Summer')\n",
    "\n",
    "stud_grades = stud_grades[f_grades & f_qrt]\n",
    "stud_grades['gpa'] = stud_grades['Grade'].apply(lambda x: lt2gpa[x])\n",
    "stud_grades['term'] = stud_grades.apply(get_term, axis=1)"
   ]
  },
  {
   "cell_type": "code",
   "execution_count": 54,
   "metadata": {},
   "outputs": [],
   "source": [
    "for stud in stud_qts:\n",
    "    \n",
    "    sid = int(re.findall('\\d+', stud)[0])\n",
    "    \n",
    "    f1 = (stud_grades['roster_randomid'] == sid)\n",
    "    f2 = stud_grades['term'].isin(stud_qts[stud])\n",
    "    stud_rec = stud_grades[f1&f2]\n",
    "    \n",
    "    if len(stud_rec) == 0:\n",
    "        student_gpa[stud] = 0\n",
    "    else:\n",
    "        student_gpa[stud] = np.average(stud_rec['gpa'], weights=stud_rec['CourseUnits']) "
   ]
  },
  {
   "cell_type": "code",
   "execution_count": 56,
   "metadata": {
    "scrolled": false
   },
   "outputs": [],
   "source": [
    "with open('./student_gpa.pickle', 'wb') as f:\n",
    "    pickle.dump(student_gpa, f, protocol=pickle.HIGHEST_PROTOCOL)"
   ]
  },
  {
   "cell_type": "code",
   "execution_count": null,
   "metadata": {},
   "outputs": [],
   "source": []
  }
 ],
 "metadata": {
  "kernelspec": {
   "display_name": "Python 3",
   "language": "python",
   "name": "python3"
  },
  "language_info": {
   "codemirror_mode": {
    "name": "ipython",
    "version": 3
   },
   "file_extension": ".py",
   "mimetype": "text/x-python",
   "name": "python",
   "nbconvert_exporter": "python",
   "pygments_lexer": "ipython3",
   "version": "3.7.3"
  }
 },
 "nbformat": 4,
 "nbformat_minor": 2
}
